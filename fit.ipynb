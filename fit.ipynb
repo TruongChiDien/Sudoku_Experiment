{
  "nbformat": 4,
  "nbformat_minor": 0,
  "metadata": {
    "colab": {
      "name": "Untitled3.ipynb",
      "provenance": []
    },
    "kernelspec": {
      "name": "python3",
      "display_name": "Python 3"
    },
    "language_info": {
      "name": "python"
    }
  },
  "cells": [
    {
      "cell_type": "code",
      "metadata": {
        "id": "ba5fK5wt4sNr"
      },
      "source": [
        "import numpy as np\n",
        "from sklearn.linear_model import LinearRegression"
      ],
      "execution_count": 1,
      "outputs": []
    },
    {
      "cell_type": "code",
      "metadata": {
        "id": "CPVHAT-07ZoQ"
      },
      "source": [
        "import pandas"
      ],
      "execution_count": 9,
      "outputs": []
    },
    {
      "cell_type": "code",
      "metadata": {
        "id": "7Wjc81KG7qw1"
      },
      "source": [
        "data = pandas.read_csv('Experiment.csv')"
      ],
      "execution_count": 22,
      "outputs": []
    },
    {
      "cell_type": "code",
      "metadata": {
        "id": "T9VA2u6W738N"
      },
      "source": [
        "e= data['E'].to_numpy().reshape(-1,1)\n",
        "d = data['D'].to_numpy().reshape(-1,1)\n",
        "y =data['Pracitcal Time'].to_numpy().reshape(-1,1)"
      ],
      "execution_count": 36,
      "outputs": []
    },
    {
      "cell_type": "code",
      "metadata": {
        "colab": {
          "base_uri": "https://localhost:8080/"
        },
        "id": "8TAWZh9M4wbR",
        "outputId": "f116f954-08bd-4eb6-86d3-06f3451cab9c"
      },
      "source": [
        "model = LinearRegression(fit_intercept=True).fit(e*e*d*d,y)\n",
        "model.coef_"
      ],
      "execution_count": 48,
      "outputs": [
        {
          "output_type": "execute_result",
          "data": {
            "text/plain": [
              "array([[1.49959194e-11]])"
            ]
          },
          "metadata": {},
          "execution_count": 48
        }
      ]
    },
    {
      "cell_type": "code",
      "metadata": {
        "colab": {
          "base_uri": "https://localhost:8080/"
        },
        "id": "snMeIRcK6WvS",
        "outputId": "e9b9e580-ce5b-49c0-9987-45c0e43b3749"
      },
      "source": [
        "e*e*d"
      ],
      "execution_count": 45,
      "outputs": [
        {
          "output_type": "execute_result",
          "data": {
            "text/plain": [
              "array([[        50176],\n",
              "       [     23619600],\n",
              "       [   1594884096],\n",
              "       [  40000000000],\n",
              "       [ 545707238400],\n",
              "       [4921848738576]])"
            ]
          },
          "metadata": {},
          "execution_count": 45
        }
      ]
    },
    {
      "cell_type": "code",
      "metadata": {
        "id": "9YVNv0xT98hF"
      },
      "source": [
        ""
      ],
      "execution_count": null,
      "outputs": []
    }
  ]
}